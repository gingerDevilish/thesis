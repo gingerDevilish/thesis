{
 "cells": [
  {
   "cell_type": "code",
   "execution_count": 257,
   "metadata": {},
   "outputs": [
    {
     "name": "stdout",
     "output_type": "stream",
     "text": [
      "Populating the interactive namespace from numpy and matplotlib\n"
     ]
    },
    {
     "name": "stderr",
     "output_type": "stream",
     "text": [
      "/home/kostin_001/anaconda3/envs/thesis/lib/python3.6/site-packages/IPython/core/magics/pylab.py:160: UserWarning: pylab import has clobbered these variables: ['f', 'contour']\n",
      "`%matplotlib` prevents importing * from pylab and numpy\n",
      "  \"\\n`%matplotlib` prevents importing * from pylab and numpy\"\n"
     ]
    }
   ],
   "source": [
    "%pylab inline"
   ]
  },
  {
   "cell_type": "code",
   "execution_count": 258,
   "metadata": {
    "collapsed": true
   },
   "outputs": [],
   "source": [
    "import cv2\n",
    "import numpy as np"
   ]
  },
  {
   "cell_type": "code",
   "execution_count": 259,
   "metadata": {
    "collapsed": true
   },
   "outputs": [],
   "source": [
    "import xml.etree.ElementTree as ET"
   ]
  },
  {
   "cell_type": "code",
   "execution_count": 260,
   "metadata": {
    "collapsed": true
   },
   "outputs": [],
   "source": [
    "from scipy.spatial import distance"
   ]
  },
  {
   "cell_type": "code",
   "execution_count": 261,
   "metadata": {},
   "outputs": [],
   "source": [
    "from keras.preprocessing.image import ImageDataGenerator, array_to_img, img_to_array, load_img\n",
    "from keras.models import Sequential\n",
    "from keras.layers import Conv2D, MaxPooling2D\n",
    "from keras.layers import Activation, Dropout, Flatten, Dense"
   ]
  },
  {
   "cell_type": "code",
   "execution_count": 262,
   "metadata": {
    "collapsed": true
   },
   "outputs": [],
   "source": [
    "from keras.models import model_from_json"
   ]
  },
  {
   "cell_type": "code",
   "execution_count": 263,
   "metadata": {
    "collapsed": true
   },
   "outputs": [],
   "source": [
    "import json"
   ]
  },
  {
   "cell_type": "code",
   "execution_count": 264,
   "metadata": {
    "collapsed": true
   },
   "outputs": [],
   "source": [
    "model = Sequential()\n",
    "\n",
    "with open('model.json', 'r') as f:\n",
    "    model = model_from_json(f.read())\n",
    "    \n",
    "model.load_weights('first_try.h5')"
   ]
  },
  {
   "cell_type": "code",
   "execution_count": 265,
   "metadata": {
    "collapsed": true
   },
   "outputs": [],
   "source": [
    "def preprocess_coords(xs, ys):\n",
    "    distances = []\n",
    "    for i in range(4):\n",
    "        distances.append(distance.euclidean(np.float32([xs[i], ys[i]]), np.float32([xs[(i+1)%4], ys[(i+1)%4]])))\n",
    "    starting_point=np.argmax(np.array(distances))\n",
    "    new_xs = xs[starting_point:]+xs[:starting_point]\n",
    "    new_ys = ys[starting_point:]+ys[:starting_point]\n",
    "    return new_xs, new_ys"
   ]
  },
  {
   "cell_type": "code",
   "execution_count": 266,
   "metadata": {
    "collapsed": true
   },
   "outputs": [],
   "source": [
    "index = '1'"
   ]
  },
  {
   "cell_type": "code",
   "execution_count": 267,
   "metadata": {
    "collapsed": true
   },
   "outputs": [],
   "source": [
    "tree = ET.parse('%s.xml' % (index))\n",
    "root = tree.getroot()"
   ]
  },
  {
   "cell_type": "code",
   "execution_count": 268,
   "metadata": {
    "collapsed": true
   },
   "outputs": [],
   "source": [
    "image = cv2.imread('%s.jpg' % (index), 0)\n",
    "pts2 = np.float32([[0,60],[0,0],[40,0],[40,60]])\n",
    "slots = []\n",
    "ids = []\n",
    "coord=[]\n",
    "predictions = []\n",
    "nop = np.array([None])"
   ]
  },
  {
   "cell_type": "code",
   "execution_count": 269,
   "metadata": {
    "collapsed": true
   },
   "outputs": [],
   "source": [
    "for space in root.findall('space'):\n",
    "    space_id = space.get('id')\n",
    "    ids.append(space_id)\n",
    "    contour = space.find('contour')\n",
    "    xs = []\n",
    "    ys = []\n",
    "    for point in contour.findall('point'):\n",
    "        xs.append(point.get('x'))\n",
    "        ys.append(point.get('y'))\n",
    "    assert len(xs)==4\n",
    "    assert len(ys)==4\n",
    "    xs, ys = preprocess_coords(xs, ys)\n",
    "    xs = np.float32(xs)\n",
    "    ys = np.float32(ys)\n",
    "    coords=np.vstack((xs, ys)).T\n",
    "    coord.append(coords)\n",
    "    M = cv2.getPerspectiveTransform(coords,pts2)\n",
    "    dst = cv2.warpPerspective(image,M,(40,60))\n",
    "    #cv2.imwrite(\"6_%s.jpg\" % space_id, dst)\n",
    "    slots.append(np.reshape(dst, (40, 60, 1)))\n",
    "    #predictions.append(model.predict(dst, 16, 1))"
   ]
  },
  {
   "cell_type": "code",
   "execution_count": 270,
   "metadata": {
    "scrolled": true
   },
   "outputs": [
    {
     "name": "stdout",
     "output_type": "stream",
     "text": [
      "100/100 [==============================] - 0s 974us/step\n"
     ]
    }
   ],
   "source": [
    "pred = model.predict(np.array(slots), 16, 1)"
   ]
  },
  {
   "cell_type": "code",
   "execution_count": 271,
   "metadata": {},
   "outputs": [
    {
     "data": {
      "text/plain": [
       "((100,), 100)"
      ]
     },
     "execution_count": 271,
     "metadata": {},
     "output_type": "execute_result"
    }
   ],
   "source": [
    "pred.ravel().shape, len(ids)"
   ]
  },
  {
   "cell_type": "code",
   "execution_count": 272,
   "metadata": {},
   "outputs": [
    {
     "data": {
      "text/plain": [
       "{'1': 'Empty',\n",
       " '10': 'Empty',\n",
       " '100': 'Occupied',\n",
       " '11': 'Occupied',\n",
       " '12': 'Empty',\n",
       " '13': 'Empty',\n",
       " '14': 'Empty',\n",
       " '15': 'Occupied',\n",
       " '16': 'Empty',\n",
       " '17': 'Empty',\n",
       " '18': 'Empty',\n",
       " '19': 'Empty',\n",
       " '2': 'Occupied',\n",
       " '20': 'Occupied',\n",
       " '21': 'Occupied',\n",
       " '22': 'Empty',\n",
       " '23': 'Empty',\n",
       " '24': 'Empty',\n",
       " '25': 'Empty',\n",
       " '26': 'Empty',\n",
       " '27': 'Empty',\n",
       " '28': 'Occupied',\n",
       " '29': 'Empty',\n",
       " '3': 'Empty',\n",
       " '30': 'Occupied',\n",
       " '31': 'Empty',\n",
       " '32': 'Occupied',\n",
       " '33': 'Occupied',\n",
       " '34': 'Occupied',\n",
       " '35': 'Occupied',\n",
       " '36': 'Occupied',\n",
       " '37': 'Empty',\n",
       " '38': 'Empty',\n",
       " '39': 'Empty',\n",
       " '4': 'Empty',\n",
       " '40': 'Empty',\n",
       " '41': 'Empty',\n",
       " '42': 'Occupied',\n",
       " '43': 'Empty',\n",
       " '44': 'Occupied',\n",
       " '45': 'Occupied',\n",
       " '46': 'Empty',\n",
       " '47': 'Empty',\n",
       " '48': 'Empty',\n",
       " '49': 'Empty',\n",
       " '5': 'Empty',\n",
       " '50': 'Empty',\n",
       " '51': 'Empty',\n",
       " '52': 'Occupied',\n",
       " '53': 'Empty',\n",
       " '54': 'Empty',\n",
       " '55': 'Empty',\n",
       " '56': 'Empty',\n",
       " '57': 'Occupied',\n",
       " '58': 'Empty',\n",
       " '59': 'Occupied',\n",
       " '6': 'Empty',\n",
       " '60': 'Occupied',\n",
       " '61': 'Empty',\n",
       " '62': 'Empty',\n",
       " '63': 'Occupied',\n",
       " '64': 'Empty',\n",
       " '65': 'Occupied',\n",
       " '66': 'Empty',\n",
       " '67': 'Occupied',\n",
       " '68': 'Empty',\n",
       " '69': 'Occupied',\n",
       " '7': 'Occupied',\n",
       " '70': 'Occupied',\n",
       " '71': 'Occupied',\n",
       " '72': 'Occupied',\n",
       " '73': 'Occupied',\n",
       " '74': 'Occupied',\n",
       " '75': 'Occupied',\n",
       " '76': 'Occupied',\n",
       " '77': 'Occupied',\n",
       " '78': 'Occupied',\n",
       " '79': 'Occupied',\n",
       " '8': 'Empty',\n",
       " '80': 'Empty',\n",
       " '81': 'Empty',\n",
       " '82': 'Empty',\n",
       " '83': 'Occupied',\n",
       " '84': 'Occupied',\n",
       " '85': 'Occupied',\n",
       " '86': 'Occupied',\n",
       " '87': 'Empty',\n",
       " '88': 'Empty',\n",
       " '89': 'Empty',\n",
       " '9': 'Occupied',\n",
       " '90': 'Empty',\n",
       " '91': 'Occupied',\n",
       " '92': 'Occupied',\n",
       " '93': 'Empty',\n",
       " '94': 'Occupied',\n",
       " '95': 'Empty',\n",
       " '96': 'Empty',\n",
       " '97': 'Empty',\n",
       " '98': 'Empty',\n",
       " '99': 'Empty'}"
      ]
     },
     "execution_count": 272,
     "metadata": {},
     "output_type": "execute_result"
    }
   ],
   "source": [
    "answer = {}\n",
    "pred = pred.ravel().tolist()\n",
    "for i in range(len(ids)):\n",
    "    answer[ids[i]]='Occupied' if pred[i] else 'Empty'\n",
    "    pts = np.array(coord[i], np.int32).reshape((-1, 1, 2))\n",
    "    color = (0, 255, 0) if pred[i] else (255, 0, 0)\n",
    "    cv2.polylines(image,[pts],True,color)\n",
    "    \n",
    "with open('%s_prediction.json' % (index), 'w') as f:\n",
    "    f.write(json.dumps(answer))\n",
    "    \n",
    "cv2.imwrite('%s_marking.jpg'%(index), image)\n",
    "answer"
   ]
  },
  {
   "cell_type": "code",
   "execution_count": null,
   "metadata": {
    "collapsed": true
   },
   "outputs": [],
   "source": []
  },
  {
   "cell_type": "code",
   "execution_count": null,
   "metadata": {
    "collapsed": true
   },
   "outputs": [],
   "source": []
  }
 ],
 "metadata": {
  "kernelspec": {
   "display_name": "Python 3",
   "language": "python",
   "name": "python3"
  },
  "language_info": {
   "codemirror_mode": {
    "name": "ipython",
    "version": 3
   },
   "file_extension": ".py",
   "mimetype": "text/x-python",
   "name": "python",
   "nbconvert_exporter": "python",
   "pygments_lexer": "ipython3",
   "version": "3.6.3"
  }
 },
 "nbformat": 4,
 "nbformat_minor": 2
}
